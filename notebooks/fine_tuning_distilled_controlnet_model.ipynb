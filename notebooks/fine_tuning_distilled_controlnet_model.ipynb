{
  "nbformat": 4,
  "nbformat_minor": 0,
  "metadata": {
    "colab": {
      "provenance": [],
      "gpuType": "T4"
    },
    "kernelspec": {
      "name": "python3",
      "display_name": "Python 3"
    },
    "language_info": {
      "name": "python"
    },
    "accelerator": "GPU"
  },
  "cells": [
    {
      "cell_type": "code",
      "execution_count": null,
      "metadata": {
        "colab": {
          "base_uri": "https://localhost:8080/"
        },
        "id": "1lUTSl_efs3m",
        "outputId": "95798576-40ac-4fde-ae37-a4d0adbd5546"
      },
      "outputs": [
        {
          "output_type": "stream",
          "name": "stdout",
          "text": [
            "Cloning into 'diffusers'...\n",
            "remote: Enumerating objects: 60083, done.\u001b[K\n",
            "remote: Counting objects: 100% (67/67), done.\u001b[K\n",
            "remote: Compressing objects: 100% (50/50), done.\u001b[K\n",
            "remote: Total 60083 (delta 26), reused 48 (delta 13), pack-reused 60016\u001b[K\n",
            "Receiving objects: 100% (60083/60083), 41.23 MiB | 20.30 MiB/s, done.\n",
            "Resolving deltas: 100% (43739/43739), done.\n"
          ]
        }
      ],
      "source": [
        "!git clone https://github.com/huggingface/diffusers"
      ]
    },
    {
      "cell_type": "code",
      "source": [
        "import tensorflow as tf\n",
        "print(\"TensorFlow version:\", tf.__version__)\n",
        "print(\"GPU available:\", tf.config.list_physical_devices('GPU'))\n"
      ],
      "metadata": {
        "colab": {
          "base_uri": "https://localhost:8080/"
        },
        "id": "LmXdmkFzf5SJ",
        "outputId": "97c9bb35-52b1-457a-c5ac-34aa62956e27"
      },
      "execution_count": null,
      "outputs": [
        {
          "output_type": "stream",
          "name": "stdout",
          "text": [
            "TensorFlow version: 2.15.0\n",
            "GPU available: [PhysicalDevice(name='/physical_device:GPU:0', device_type='GPU')]\n"
          ]
        }
      ]
    },
    {
      "cell_type": "code",
      "source": [
        "%pwd"
      ],
      "metadata": {
        "colab": {
          "base_uri": "https://localhost:8080/",
          "height": 35
        },
        "id": "h7y0hSy8gALo",
        "outputId": "6a46b465-8d5b-4cdd-f0ca-bcfcb97aed67"
      },
      "execution_count": null,
      "outputs": [
        {
          "output_type": "execute_result",
          "data": {
            "text/plain": [
              "'/content'"
            ],
            "application/vnd.google.colaboratory.intrinsic+json": {
              "type": "string"
            }
          },
          "metadata": {},
          "execution_count": 3
        }
      ]
    },
    {
      "cell_type": "code",
      "source": [
        "%cd diffusers"
      ],
      "metadata": {
        "colab": {
          "base_uri": "https://localhost:8080/"
        },
        "id": "hHlAmT8LgDRQ",
        "outputId": "7296d4ac-6458-4276-d721-9d6070db637e"
      },
      "execution_count": null,
      "outputs": [
        {
          "output_type": "stream",
          "name": "stdout",
          "text": [
            "/content/diffusers\n"
          ]
        }
      ]
    },
    {
      "cell_type": "code",
      "source": [
        "!pip install . -q"
      ],
      "metadata": {
        "colab": {
          "base_uri": "https://localhost:8080/"
        },
        "id": "PqyHfob3gFvs",
        "outputId": "71c99540-0ced-4493-bab2-7b890094aa8f"
      },
      "execution_count": null,
      "outputs": [
        {
          "output_type": "stream",
          "name": "stdout",
          "text": [
            "  Installing build dependencies ... \u001b[?25l\u001b[?25hdone\n",
            "  Getting requirements to build wheel ... \u001b[?25l\u001b[?25hdone\n",
            "  Preparing metadata (pyproject.toml) ... \u001b[?25l\u001b[?25hdone\n",
            "  Building wheel for diffusers (pyproject.toml) ... \u001b[?25l\u001b[?25hdone\n"
          ]
        }
      ]
    },
    {
      "cell_type": "code",
      "source": [
        "%cd examples/controlnet"
      ],
      "metadata": {
        "colab": {
          "base_uri": "https://localhost:8080/"
        },
        "id": "0eDU4_K8gH8L",
        "outputId": "70fdd16f-7ac6-4158-c7d1-c5971477308a"
      },
      "execution_count": null,
      "outputs": [
        {
          "output_type": "stream",
          "name": "stdout",
          "text": [
            "/content/diffusers/examples/controlnet\n"
          ]
        }
      ]
    },
    {
      "cell_type": "code",
      "source": [
        "!pip install -r requirements.txt -q"
      ],
      "metadata": {
        "colab": {
          "base_uri": "https://localhost:8080/"
        },
        "id": "6odKSNokgKZo",
        "outputId": "08e068a3-e29f-4da2-a1d3-b05f201204e1"
      },
      "execution_count": null,
      "outputs": [
        {
          "output_type": "stream",
          "name": "stdout",
          "text": [
            "\u001b[?25l     \u001b[90m━━━━━━━━━━━━━━━━━━━━━━━━━━━━━━━━━━━━━━━━\u001b[0m \u001b[32m0.0/297.4 kB\u001b[0m \u001b[31m?\u001b[0m eta \u001b[36m-:--:--\u001b[0m\r\u001b[2K     \u001b[91m━━━━━━━━━━━━━━━━━━━━━━━━━━━━━━━━━━━━━━━\u001b[0m\u001b[91m╸\u001b[0m \u001b[32m297.0/297.4 kB\u001b[0m \u001b[31m9.8 MB/s\u001b[0m eta \u001b[36m0:00:01\u001b[0m\r\u001b[2K     \u001b[90m━━━━━━━━━━━━━━━━━━━━━━━━━━━━━━━━━━━━━━━━\u001b[0m \u001b[32m297.4/297.4 kB\u001b[0m \u001b[31m7.6 MB/s\u001b[0m eta \u001b[36m0:00:00\u001b[0m\n",
            "\u001b[2K     \u001b[90m━━━━━━━━━━━━━━━━━━━━━━━━━━━━━━━━━━━━━━━━\u001b[0m \u001b[32m54.4/54.4 kB\u001b[0m \u001b[31m7.2 MB/s\u001b[0m eta \u001b[36m0:00:00\u001b[0m\n",
            "\u001b[2K     \u001b[90m━━━━━━━━━━━━━━━━━━━━━━━━━━━━━━━━━━━━━━━━\u001b[0m \u001b[32m510.5/510.5 kB\u001b[0m \u001b[31m19.5 MB/s\u001b[0m eta \u001b[36m0:00:00\u001b[0m\n",
            "\u001b[2K     \u001b[90m━━━━━━━━━━━━━━━━━━━━━━━━━━━━━━━━━━━━━━━━\u001b[0m \u001b[32m116.3/116.3 kB\u001b[0m \u001b[31m10.6 MB/s\u001b[0m eta \u001b[36m0:00:00\u001b[0m\n",
            "\u001b[2K     \u001b[90m━━━━━━━━━━━━━━━━━━━━━━━━━━━━━━━━━━━━━━━━\u001b[0m \u001b[32m194.1/194.1 kB\u001b[0m \u001b[31m16.0 MB/s\u001b[0m eta \u001b[36m0:00:00\u001b[0m\n",
            "\u001b[2K     \u001b[90m━━━━━━━━━━━━━━━━━━━━━━━━━━━━━━━━━━━━━━━━\u001b[0m \u001b[32m134.8/134.8 kB\u001b[0m \u001b[31m16.0 MB/s\u001b[0m eta \u001b[36m0:00:00\u001b[0m\n",
            "\u001b[?25h"
          ]
        }
      ]
    },
    {
      "cell_type": "code",
      "source": [
        "!accelerate config default"
      ],
      "metadata": {
        "colab": {
          "base_uri": "https://localhost:8080/"
        },
        "id": "m87ma3RQgSJ2",
        "outputId": "744bbe6a-728f-4ba1-c9b6-d5d0481419e5"
      },
      "execution_count": null,
      "outputs": [
        {
          "output_type": "stream",
          "name": "stdout",
          "text": [
            "accelerate configuration saved at /root/.cache/huggingface/accelerate/default_config.yaml\n"
          ]
        }
      ]
    },
    {
      "cell_type": "code",
      "source": [
        "# !huggingface-cli login"
      ],
      "metadata": {
        "id": "PPushUAHgVAR"
      },
      "execution_count": null,
      "outputs": []
    },
    {
      "cell_type": "code",
      "source": [
        "import os\n",
        "os.environ[\"TRANSFORMERS_OFFLINE\"] = \"1\"\n",
        "os.environ[\"HF_DATASETS_OFFLINE\"] = '1'\n",
        "os.environ[\"DIFFUSERS_OFFLINE\"] = '1'\n",
        "os.environ[\"PYTORCH_CUDA_ALLOC_CONF\"] = \"expandable_segments:True\""
      ],
      "metadata": {
        "id": "c-y_WdZ1oxP1"
      },
      "execution_count": null,
      "outputs": []
    },
    {
      "cell_type": "code",
      "source": [
        "dataset_path = \"/content/drive/MyDrive/Datasets/dataset_for_controlnet\"\n",
        "model_path = \"/content/drive/MyDrive/Datasets/fine_tuned_model\"\n",
        "controlnet_model_path = \"/content/drive/MyDrive/Datasets/controlnet_model\""
      ],
      "metadata": {
        "id": "o7kxfT8Roz2w"
      },
      "execution_count": null,
      "outputs": []
    },
    {
      "cell_type": "code",
      "source": [
        "!accelerate launch --mixed_precision=\"fp16\"  train_controlnet.py \\\n",
        "  --pretrained_model_name_or_path=$model_path \\\n",
        "  --dataset_name=$dataset_path \\\n",
        "  --controlnet_model_name_or_path=$controlnet_model_path \\\n",
        "  --resolution=128 \\\n",
        "  --conditioning_image_column=conditioning_image \\\n",
        "  --image_column=image \\\n",
        "  --caption_column=text \\\n",
        "  --num_train_epochs=2 \\\n",
        "  --train_batch_size=1 \\\n",
        "  --checkpointing_steps=1000 \\\n",
        "  --gradient_accumulation_steps=4 \\\n",
        "  --gradient_checkpointing \\\n",
        "  --learning_rate=1e-05 \\\n",
        "  --lr_scheduler=\"constant\" \\\n",
        "  --output_dir=\"fine_tuned_model_controlnet\"\n",
        "  # --push_to_hub\n",
        "   # --validation_prompts=prompts \\\n",
        "  # --validation_epochs=4 \\"
      ],
      "metadata": {
        "colab": {
          "base_uri": "https://localhost:8080/"
        },
        "id": "SSbXqYz_o2kc",
        "outputId": "f5ba692f-b001-45d5-bab1-bc7846e7887a"
      },
      "execution_count": null,
      "outputs": [
        {
          "output_type": "stream",
          "name": "stdout",
          "text": [
            "2024-04-15 13:17:03.261813: E external/local_xla/xla/stream_executor/cuda/cuda_dnn.cc:9261] Unable to register cuDNN factory: Attempting to register factory for plugin cuDNN when one has already been registered\n",
            "2024-04-15 13:17:03.261870: E external/local_xla/xla/stream_executor/cuda/cuda_fft.cc:607] Unable to register cuFFT factory: Attempting to register factory for plugin cuFFT when one has already been registered\n",
            "2024-04-15 13:17:03.263165: E external/local_xla/xla/stream_executor/cuda/cuda_blas.cc:1515] Unable to register cuBLAS factory: Attempting to register factory for plugin cuBLAS when one has already been registered\n",
            "2024-04-15 13:17:04.587144: W tensorflow/compiler/tf2tensorrt/utils/py_utils.cc:38] TF-TRT Warning: Could not find TensorRT\n",
            "04/15/2024 13:17:05 - INFO - __main__ - Distributed environment: NO\n",
            "Num processes: 1\n",
            "Process index: 0\n",
            "Local process index: 0\n",
            "Device: cuda\n",
            "\n",
            "Mixed precision type: fp16\n",
            "\n",
            "You are using a model of type clip_text_model to instantiate a model of type . This is not supported for all configurations of models and can yield errors.\n",
            "{'variance_type', 'rescale_betas_zero_snr', 'dynamic_thresholding_ratio', 'sample_max_value', 'thresholding', 'clip_sample_range'} was not found in config. Values will be initialized to default values.\n",
            "04/15/2024 13:17:06 - INFO - __main__ - Loading existing controlnet weights\n",
            "04/15/2024 13:17:27 - INFO - __main__ - ***** Running training *****\n",
            "04/15/2024 13:17:27 - INFO - __main__ -   Num examples = 100\n",
            "04/15/2024 13:17:27 - INFO - __main__ -   Num batches each epoch = 100\n",
            "04/15/2024 13:17:27 - INFO - __main__ -   Num Epochs = 2\n",
            "04/15/2024 13:17:27 - INFO - __main__ -   Instantaneous batch size per device = 1\n",
            "04/15/2024 13:17:27 - INFO - __main__ -   Total train batch size (w. parallel, distributed & accumulation) = 4\n",
            "04/15/2024 13:17:27 - INFO - __main__ -   Gradient Accumulation steps = 4\n",
            "04/15/2024 13:17:27 - INFO - __main__ -   Total optimization steps = 50\n",
            "Steps:   0% 0/50 [00:00<?, ?it/s]Traceback (most recent call last):\n",
            "  File \"/content/diffusers/examples/controlnet/train_controlnet.py\", line 1220, in <module>\n",
            "    main(args)\n",
            "  File \"/content/diffusers/examples/controlnet/train_controlnet.py\", line 1083, in main\n",
            "    model_pred = unet(\n",
            "  File \"/usr/local/lib/python3.10/dist-packages/torch/nn/modules/module.py\", line 1511, in _wrapped_call_impl\n",
            "    return self._call_impl(*args, **kwargs)\n",
            "  File \"/usr/local/lib/python3.10/dist-packages/torch/nn/modules/module.py\", line 1520, in _call_impl\n",
            "    return forward_call(*args, **kwargs)\n",
            "  File \"/usr/local/lib/python3.10/dist-packages/diffusers/models/unets/unet_2d_condition.py\", line 1238, in forward\n",
            "    down_block_res_sample = down_block_res_sample + down_block_additional_residual\n",
            "RuntimeError: The size of tensor a (8) must match the size of tensor b (16) at non-singleton dimension 3\n",
            "Steps:   0% 0/50 [00:02<?, ?it/s]\n",
            "Traceback (most recent call last):\n",
            "  File \"/usr/local/bin/accelerate\", line 8, in <module>\n",
            "    sys.exit(main())\n",
            "  File \"/usr/local/lib/python3.10/dist-packages/accelerate/commands/accelerate_cli.py\", line 46, in main\n",
            "    args.func(args)\n",
            "  File \"/usr/local/lib/python3.10/dist-packages/accelerate/commands/launch.py\", line 1075, in launch_command\n",
            "    simple_launcher(args)\n",
            "  File \"/usr/local/lib/python3.10/dist-packages/accelerate/commands/launch.py\", line 681, in simple_launcher\n",
            "    raise subprocess.CalledProcessError(returncode=process.returncode, cmd=cmd)\n",
            "subprocess.CalledProcessError: Command '['/usr/bin/python3', 'train_controlnet.py', '--pretrained_model_name_or_path=/content/drive/MyDrive/Datasets/fine_tuned_model', '--dataset_name=/content/drive/MyDrive/Datasets/dataset_for_controlnet', '--controlnet_model_name_or_path=/content/drive/MyDrive/Datasets/controlnet_model', '--resolution=128', '--conditioning_image_column=conditioning_image', '--image_column=image', '--caption_column=text', '--num_train_epochs=2', '--train_batch_size=1', '--checkpointing_steps=1000', '--gradient_accumulation_steps=4', '--gradient_checkpointing', '--learning_rate=1e-05', '--lr_scheduler=constant', '--output_dir=fine_tuned_model_controlnet']' returned non-zero exit status 1.\n"
          ]
        }
      ]
    }
  ]
}
