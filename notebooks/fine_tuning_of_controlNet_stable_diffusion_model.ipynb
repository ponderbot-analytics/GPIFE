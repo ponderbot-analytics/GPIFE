{
  "cells": [
    {
      "cell_type": "code",
      "execution_count": null,
      "metadata": {
        "colab": {
          "base_uri": "https://localhost:8080/"
        },
        "id": "c4gZ8Ve-vcpI",
        "outputId": "b794485d-4077-4bdf-a60c-6d87b28fdf7d"
      },
      "outputs": [
        {
          "name": "stdout",
          "output_type": "stream",
          "text": [
            "Cloning into 'diffusers'...\n",
            "remote: Enumerating objects: 60342, done.\u001b[K\n",
            "remote: Counting objects: 100% (292/292), done.\u001b[K\n",
            "remote: Compressing objects: 100% (216/216), done.\u001b[K\n",
            "remote: Total 60342 (delta 168), reused 130 (delta 66), pack-reused 60050\u001b[K\n",
            "Receiving objects: 100% (60342/60342), 41.74 MiB | 9.32 MiB/s, done.\n",
            "Resolving deltas: 100% (43901/43901), done.\n"
          ]
        }
      ],
      "source": [
        "!git clone https://github.com/huggingface/diffusers"
      ]
    },
    {
      "cell_type": "code",
      "execution_count": null,
      "metadata": {
        "id": "Dx40DH5x7XwW"
      },
      "outputs": [],
      "source": [
        "!pip install diffusers -q"
      ]
    },
    {
      "cell_type": "code",
      "execution_count": null,
      "metadata": {
        "colab": {
          "base_uri": "https://localhost:8080/"
        },
        "id": "_syiYh71vkvX",
        "outputId": "65c3bde8-5bef-4d1b-8e97-26d901321bb5"
      },
      "outputs": [
        {
          "output_type": "stream",
          "name": "stdout",
          "text": [
            "TensorFlow version: 2.15.0\n",
            "GPU available: [PhysicalDevice(name='/physical_device:GPU:0', device_type='GPU')]\n"
          ]
        }
      ],
      "source": [
        "import tensorflow as tf\n",
        "print(\"TensorFlow version:\", tf.__version__)\n",
        "print(\"GPU available:\", tf.config.list_physical_devices('GPU'))\n"
      ]
    },
    {
      "cell_type": "code",
      "execution_count": null,
      "metadata": {
        "colab": {
          "base_uri": "https://localhost:8080/",
          "height": 35
        },
        "id": "PfpFuXHkvouF",
        "outputId": "5e0ca8ec-fdff-4c88-df4d-6ba2f5bd5fcf"
      },
      "outputs": [
        {
          "data": {
            "application/vnd.google.colaboratory.intrinsic+json": {
              "type": "string"
            },
            "text/plain": [
              "'/content/diffusers/examples/controlnet/diffusers/examples/controlnet'"
            ]
          },
          "execution_count": 31,
          "metadata": {},
          "output_type": "execute_result"
        }
      ],
      "source": [
        "%pwd"
      ]
    },
    {
      "cell_type": "code",
      "execution_count": null,
      "metadata": {
        "colab": {
          "base_uri": "https://localhost:8080/"
        },
        "id": "x1NODbzXvrai",
        "outputId": "05cce635-5e3c-4d73-ab85-2817bddae377"
      },
      "outputs": [
        {
          "name": "stdout",
          "output_type": "stream",
          "text": [
            "/content/diffusers/examples/controlnet/diffusers/examples/controlnet/diffusers\n"
          ]
        }
      ],
      "source": [
        "%cd diffusers"
      ]
    },
    {
      "cell_type": "code",
      "execution_count": null,
      "metadata": {
        "colab": {
          "base_uri": "https://localhost:8080/"
        },
        "id": "-sIF5Wssvu2Q",
        "outputId": "f1bf4cbc-1af6-4a23-d49c-c59536f0f88f"
      },
      "outputs": [
        {
          "name": "stdout",
          "output_type": "stream",
          "text": [
            "  Installing build dependencies ... \u001b[?25l\u001b[?25hdone\n",
            "  Getting requirements to build wheel ... \u001b[?25l\u001b[?25hdone\n",
            "  Preparing metadata (pyproject.toml) ... \u001b[?25l\u001b[?25hdone\n",
            "  Building wheel for diffusers (pyproject.toml) ... \u001b[?25l\u001b[?25hdone\n"
          ]
        }
      ],
      "source": [
        "!pip install . -q"
      ]
    },
    {
      "cell_type": "code",
      "execution_count": null,
      "metadata": {
        "colab": {
          "base_uri": "https://localhost:8080/"
        },
        "id": "S-5Aw1R0vxMd",
        "outputId": "2a4efdaf-0b3d-4b01-dd05-1b6c45c2ebe7"
      },
      "outputs": [
        {
          "name": "stdout",
          "output_type": "stream",
          "text": [
            "/content/diffusers/examples/controlnet/diffusers/examples/controlnet/diffusers/examples/controlnet\n"
          ]
        }
      ],
      "source": [
        "%cd examples/controlnet"
      ]
    },
    {
      "cell_type": "code",
      "execution_count": null,
      "metadata": {
        "id": "F8ZAbc-ovzr7"
      },
      "outputs": [],
      "source": [
        "!pip install -r requirements.txt -q"
      ]
    },
    {
      "cell_type": "code",
      "execution_count": null,
      "metadata": {
        "colab": {
          "base_uri": "https://localhost:8080/"
        },
        "id": "jI3G6gt6v2Il",
        "outputId": "ed2d3b5e-6aef-40cc-9150-289b9b6293eb"
      },
      "outputs": [
        {
          "name": "stdout",
          "output_type": "stream",
          "text": [
            "accelerate configuration saved at /root/.cache/huggingface/accelerate/default_config.yaml\n"
          ]
        }
      ],
      "source": [
        "!accelerate config default"
      ]
    },
    {
      "cell_type": "code",
      "execution_count": null,
      "metadata": {
        "id": "Wpowwpyu670c"
      },
      "outputs": [],
      "source": [
        "import os\n",
        "os.environ[\"TRANSFORMERS_OFFLINE\"] = \"1\"\n",
        "os.environ[\"HF_DATASETS_OFFLINE\"] = '1'\n",
        "os.environ[\"DIFFUSERS_OFFLINE\"] = '1'\n",
        "os.environ[\"PYTORCH_CUDA_ALLOC_CONF\"] = \"expandable_segments:True\""
      ]
    },
    {
      "cell_type": "code",
      "execution_count": null,
      "metadata": {
        "id": "oJ9QdEfT7D-k"
      },
      "outputs": [],
      "source": [
        "model_path = \"/content/drive/MyDrive/Datasets/heavy_model\"\n",
        "dataset_path = \"/content/drive/MyDrive/Datasets/dataset_for_controlnet\""
      ]
    },
    {
      "cell_type": "code",
      "execution_count": null,
      "metadata": {
        "colab": {
          "base_uri": "https://localhost:8080/"
        },
        "id": "aSBYNfWVv7By",
        "outputId": "29ac52e3-49c0-4f9c-a11b-d76982e91cf7"
      },
      "outputs": [
        {
          "name": "stdout",
          "output_type": "stream",
          "text": [
            "2024-04-17 14:41:52.135828: E external/local_xla/xla/stream_executor/cuda/cuda_dnn.cc:9261] Unable to register cuDNN factory: Attempting to register factory for plugin cuDNN when one has already been registered\n",
            "2024-04-17 14:41:52.135878: E external/local_xla/xla/stream_executor/cuda/cuda_fft.cc:607] Unable to register cuFFT factory: Attempting to register factory for plugin cuFFT when one has already been registered\n",
            "2024-04-17 14:41:52.137270: E external/local_xla/xla/stream_executor/cuda/cuda_blas.cc:1515] Unable to register cuBLAS factory: Attempting to register factory for plugin cuBLAS when one has already been registered\n",
            "2024-04-17 14:41:53.300036: W tensorflow/compiler/tf2tensorrt/utils/py_utils.cc:38] TF-TRT Warning: Could not find TensorRT\n",
            "04/17/2024 14:41:53 - INFO - __main__ - Distributed environment: NO\n",
            "Num processes: 1\n",
            "Process index: 0\n",
            "Local process index: 0\n",
            "Device: cuda\n",
            "\n",
            "Mixed precision type: fp16\n",
            "\n",
            "You are using a model of type clip_text_model to instantiate a model of type . This is not supported for all configurations of models and can yield errors.\n",
            "{'variance_type', 'clip_sample_range', 'dynamic_thresholding_ratio', 'sample_max_value', 'rescale_betas_zero_snr', 'thresholding'} was not found in config. Values will be initialized to default values.\n",
            "04/17/2024 14:42:58 - INFO - __main__ - Initializing controlnet weights from unet\n",
            "04/17/2024 14:43:35 - INFO - __main__ - ***** Running training *****\n",
            "04/17/2024 14:43:35 - INFO - __main__ -   Num examples = 100\n",
            "04/17/2024 14:43:35 - INFO - __main__ -   Num batches each epoch = 100\n",
            "04/17/2024 14:43:35 - INFO - __main__ -   Num Epochs = 50\n",
            "04/17/2024 14:43:35 - INFO - __main__ -   Instantaneous batch size per device = 1\n",
            "04/17/2024 14:43:35 - INFO - __main__ -   Total train batch size (w. parallel, distributed & accumulation) = 4\n",
            "04/17/2024 14:43:35 - INFO - __main__ -   Gradient Accumulation steps = 4\n",
            "04/17/2024 14:43:35 - INFO - __main__ -   Total optimization steps = 1250\n",
            "Steps:  80% 1000/1250 [18:27<04:21,  1.05s/it, loss=0.0176, lr=1e-5]04/17/2024 15:02:02 - INFO - accelerate.accelerator - Saving current state to fine_tuned_model_controlnet/checkpoint-1000\n",
            "Configuration saved in fine_tuned_model_controlnet/checkpoint-1000/controlnet/config.json\n",
            "Model weights saved in fine_tuned_model_controlnet/checkpoint-1000/controlnet/diffusion_pytorch_model.safetensors\n",
            "04/17/2024 15:02:32 - INFO - accelerate.checkpointing - Optimizer state saved in fine_tuned_model_controlnet/checkpoint-1000/optimizer.bin\n",
            "04/17/2024 15:02:32 - INFO - accelerate.checkpointing - Scheduler state saved in fine_tuned_model_controlnet/checkpoint-1000/scheduler.bin\n",
            "04/17/2024 15:02:32 - INFO - accelerate.checkpointing - Sampler state for dataloader 0 saved in fine_tuned_model_controlnet/checkpoint-1000/sampler.bin\n",
            "04/17/2024 15:02:32 - INFO - accelerate.checkpointing - Gradient scaler state saved in fine_tuned_model_controlnet/checkpoint-1000/scaler.pt\n",
            "04/17/2024 15:02:32 - INFO - accelerate.checkpointing - Random states saved in fine_tuned_model_controlnet/checkpoint-1000/random_states_0.pkl\n",
            "04/17/2024 15:02:32 - INFO - __main__ - Saved state to fine_tuned_model_controlnet/checkpoint-1000\n",
            "Steps: 100% 1250/1250 [23:28<00:00,  1.21s/it, loss=0.0017, lr=1e-5]Configuration saved in fine_tuned_model_controlnet/config.json\n",
            "Model weights saved in fine_tuned_model_controlnet/diffusion_pytorch_model.safetensors\n",
            "Steps: 100% 1250/1250 [23:37<00:00,  1.13s/it, loss=0.0017, lr=1e-5]\n"
          ]
        }
      ],
      "source": [
        "!accelerate launch --mixed_precision=\"fp16\"  train_controlnet.py \\\n",
        "  --pretrained_model_name_or_path=$model_path \\\n",
        "  --dataset_name=$dataset_path \\\n",
        "  --resolution=128 \\\n",
        "  --conditioning_image_column=conditioning_image \\\n",
        "  --image_column=image \\\n",
        "  --caption_column=text \\\n",
        "  --num_train_epochs=50 \\\n",
        "  --train_batch_size=1 \\\n",
        "  --checkpointing_steps=1000 \\\n",
        "  --gradient_accumulation_steps=4 \\\n",
        "  --gradient_checkpointing \\\n",
        "  --learning_rate=1e-05 \\\n",
        "  --lr_scheduler=\"constant\" \\\n",
        "  --output_dir=\"fine_tuned_model_controlnet\""
      ]
    }
  ],
  "metadata": {
    "accelerator": "GPU",
    "colab": {
      "gpuType": "T4",
      "provenance": []
    },
    "kernelspec": {
      "display_name": "Python 3",
      "name": "python3"
    },
    "language_info": {
      "name": "python"
    }
  },
  "nbformat": 4,
  "nbformat_minor": 0
}